{
  "cells": [
    {
      "cell_type": "markdown",
      "metadata": {
        "id": "yhZUKJAsTRz9"
      },
      "source": [
        "#**Normal Conformer Model**"
      ]
    },
    {
      "cell_type": "code",
      "execution_count": null,
      "metadata": {
        "colab": {
          "base_uri": "https://localhost:8080/"
        },
        "id": "EJBSVI8wUU3V",
        "outputId": "f05b0460-39e9-4fec-b54a-6af3e65090eb"
      },
      "outputs": [
        {
          "name": "stdout",
          "output_type": "stream",
          "text": [
            "Using device: cpu\n"
          ]
        }
      ],
      "source": [
        "import torch\n",
        "import torch.nn as nn\n",
        "import torch.nn.functional as F\n",
        "\n",
        "# Detect device (GPU if available)\n",
        "device = torch.device(\"cuda\" if torch.cuda.is_available() else \"cpu\")\n",
        "print(\"Using device:\", device)\n",
        "\n",
        "# Feed Forward Network\n",
        "class FeedForward(nn.Module):\n",
        "    def __init__(self, dim, hidden_dim, dropout=0.1):\n",
        "        super().__init__()\n",
        "        self.net = nn.Sequential(\n",
        "            nn.Linear(dim, hidden_dim),\n",
        "            nn.GELU(),\n",
        "            nn.Dropout(dropout),\n",
        "            nn.Linear(hidden_dim, dim),\n",
        "            nn.Dropout(dropout)\n",
        "        )\n",
        "\n",
        "    def forward(self, x):\n",
        "        return self.net(x)\n",
        "\n",
        "# Convolution Module\n",
        "class ConvModule(nn.Module):\n",
        "    def __init__(self, dim):\n",
        "        super().__init__()\n",
        "        self.pointwise_conv1 = nn.Conv1d(dim, 2 * dim, kernel_size=1)\n",
        "        self.depthwise_conv = nn.Conv1d(dim, dim, kernel_size=3, padding=1, groups=dim)\n",
        "        self.bn = nn.BatchNorm1d(dim)\n",
        "        self.pointwise_conv2 = nn.Conv1d(dim, dim, kernel_size=1)\n",
        "        self.activation = nn.SiLU()\n",
        "\n",
        "    def forward(self, x):\n",
        "        x = x.transpose(1, 2)  # [B, C, N] for 1D conv\n",
        "        x = self.pointwise_conv1(x)\n",
        "        x = self.activation(x)\n",
        "        x = self.depthwise_conv(x[:, :x.shape[1]//2])  # half input\n",
        "        x = self.bn(x)\n",
        "        x = self.activation(x)\n",
        "        x = self.pointwise_conv2(x)\n",
        "        x = x.transpose(1, 2)\n",
        "        return x\n",
        "\n",
        "# Multi-Head Attention with LayerNorm\n",
        "class MultiHeadAttention(nn.Module):\n",
        "    def __init__(self, dim, heads=8, dropout=0.1):\n",
        "        super().__init__()\n",
        "        self.attn = nn.MultiheadAttention(embed_dim=dim, num_heads=heads, dropout=dropout, batch_first=True)\n",
        "        self.norm = nn.LayerNorm(dim)\n",
        "\n",
        "    def forward(self, x):\n",
        "        x_norm = self.norm(x)\n",
        "        attn_out, _ = self.attn(x_norm, x_norm, x_norm)\n",
        "        return attn_out\n",
        "\n",
        "# Conformer Block\n",
        "class ConformerBlock(nn.Module):\n",
        "    def __init__(self, dim, ff_dim, heads=8, dropout=0.1):\n",
        "        super().__init__()\n",
        "        self.ffn1 = FeedForward(dim, ff_dim, dropout)\n",
        "        self.attn = MultiHeadAttention(dim, heads, dropout)\n",
        "        self.conv = ConvModule(dim)\n",
        "        self.ffn2 = FeedForward(dim, ff_dim, dropout)\n",
        "        self.norm = nn.LayerNorm(dim)\n",
        "\n",
        "    def forward(self, x):\n",
        "        x = x + 0.5 * self.ffn1(x)\n",
        "        x = x + self.attn(x)\n",
        "        x = x + self.conv(x)\n",
        "        x = x + 0.5 * self.ffn2(x)\n",
        "        return self.norm(x)\n",
        "\n",
        "# Vision Conformer Model\n",
        "class VisionConformer(nn.Module):\n",
        "    def __init__(self, img_size=32, patch_size=4, in_ch=3, num_classes=10, dim=128, depth=6, ff_dim=256, heads=8):\n",
        "        super().__init__()\n",
        "        self.patch_embed = nn.Conv2d(in_ch, dim, kernel_size=patch_size, stride=patch_size)\n",
        "        num_patches = (img_size // patch_size) ** 2\n",
        "        self.pos_embed = nn.Parameter(torch.randn(1, num_patches, dim))\n",
        "        self.blocks = nn.Sequential(*[\n",
        "            ConformerBlock(dim, ff_dim, heads) for _ in range(depth)\n",
        "        ])\n",
        "        self.classifier = nn.Linear(dim, num_classes)\n",
        "\n",
        "    def forward(self, x):\n",
        "        x = self.patch_embed(x)  # [B, C, H, W]\n",
        "        x = x.flatten(2).transpose(1, 2)  # [B, N, C]\n",
        "        x = x + self.pos_embed\n",
        "        x = self.blocks(x)\n",
        "        x = x.mean(dim=1)  # Global average pooling\n",
        "        return self.classifier(x)\n"
      ]
    },
    {
      "cell_type": "markdown",
      "metadata": {
        "id": "xfDCe8PfU60l"
      },
      "source": [
        "**Loading Dataset**"
      ]
    },
    {
      "cell_type": "code",
      "execution_count": null,
      "metadata": {
        "id": "J17CLNAiTNwz"
      },
      "outputs": [],
      "source": [
        "import os\n",
        "from torchvision import datasets, transforms\n",
        "from torch.utils.data import DataLoader\n",
        "\n",
        "data_dir = \"/content/drive/MyDrive/B_Cancer\"  # Change this\n",
        "\n",
        "transform = transforms.Compose([\n",
        "    transforms.Resize((128, 128)),  # Adjust size as needed\n",
        "    transforms.ToTensor(),\n",
        "    transforms.Normalize(mean=[0.5], std=[0.5])  # Assuming grayscale; update if RGB\n",
        "])\n",
        "\n",
        "train_dataset = datasets.ImageFolder(os.path.join(data_dir, 'Train'), transform=transform)\n",
        "val_dataset   = datasets.ImageFolder(os.path.join(data_dir, 'Val'), transform=transform)\n",
        "test_dataset  = datasets.ImageFolder(os.path.join(data_dir, 'Test'), transform=transform)\n",
        "\n",
        "train_loader = DataLoader(train_dataset, batch_size=32, shuffle=True)\n",
        "val_loader   = DataLoader(val_dataset, batch_size=32)\n",
        "test_loader  = DataLoader(test_dataset, batch_size=32)"
      ]
    },
    {
      "cell_type": "markdown",
      "metadata": {
        "id": "KQBs_zZEU-Zt"
      },
      "source": [
        "**Calling the model**"
      ]
    },
    {
      "cell_type": "code",
      "execution_count": null,
      "metadata": {
        "id": "5IiNGT19UIWt"
      },
      "outputs": [],
      "source": [
        "# For 128x128 images, patch size 16 is common\n",
        "model = VisionConformer(\n",
        "    img_size=128,\n",
        "    patch_size=16,\n",
        "    in_ch=3,  # Use 1 if grayscale\n",
        "    num_classes=2,  # cancer or not\n",
        "    dim=128,\n",
        "    depth=6,\n",
        "    ff_dim=256,\n",
        "    heads=8\n",
        ").to(device)"
      ]
    },
    {
      "cell_type": "markdown",
      "metadata": {
        "id": "lxDBgegZVDHM"
      },
      "source": [
        "**Start the Training**"
      ]
    },
    {
      "cell_type": "code",
      "execution_count": null,
      "metadata": {
        "colab": {
          "base_uri": "https://localhost:8080/"
        },
        "id": "baKQ4R2nUdGc",
        "outputId": "f8d34aa8-2120-4128-e6d0-a0979cb2f44c"
      },
      "outputs": [
        {
          "name": "stdout",
          "output_type": "stream",
          "text": [
            "Epoch 1 - Loss: 314.6966 - Train Acc: 78.70%\n",
            "Epoch 2 - Loss: 282.8201 - Train Acc: 81.05%\n",
            "Epoch 3 - Loss: 271.3221 - Train Acc: 81.92%\n",
            "Epoch 4 - Loss: 264.0399 - Train Acc: 82.56%\n",
            "Epoch 5 - Loss: 254.9180 - Train Acc: 83.22%\n"
          ]
        }
      ],
      "source": [
        "import torch.nn as nn\n",
        "import torch\n",
        "\n",
        "criterion = nn.CrossEntropyLoss()\n",
        "optimizer = torch.optim.Adam(model.parameters(), lr=1e-4)\n",
        "\n",
        "for epoch in range(5):  # Try more epochs if needed\n",
        "    model.train()\n",
        "    running_loss = 0.0\n",
        "    correct, total = 0, 0\n",
        "    for images, labels in train_loader:\n",
        "        images, labels = images.to(device), labels.to(device)\n",
        "\n",
        "        outputs = model(images)\n",
        "        loss = criterion(outputs, labels)\n",
        "\n",
        "        optimizer.zero_grad()\n",
        "        loss.backward()\n",
        "        optimizer.step()\n",
        "\n",
        "        running_loss += loss.item()\n",
        "        _, predicted = torch.max(outputs.data, 1)\n",
        "        total += labels.size(0)\n",
        "        correct += (predicted == labels).sum().item()\n",
        "\n",
        "    acc = 100 * correct / total\n",
        "    print(f\"Epoch {epoch+1} - Loss: {running_loss:.4f} - Train Acc: {acc:.2f}%\")"
      ]
    },
    {
      "cell_type": "markdown",
      "metadata": {
        "id": "ymjfkD5QVGmE"
      },
      "source": [
        "**Evaluating the model by seeing the test and val accuracy**"
      ]
    },
    {
      "cell_type": "code",
      "execution_count": null,
      "metadata": {
        "colab": {
          "background_save": true
        },
        "id": "LNp4tyetUeUs",
        "outputId": "90fcfe69-d79c-46fd-9754-5b3671c73586"
      },
      "outputs": [
        {
          "name": "stdout",
          "output_type": "stream",
          "text": [
            "Validation Accuracy: 81.25%\n",
            "Test Accuracy: 81.83%\n"
          ]
        }
      ],
      "source": [
        "def evaluate(model, loader):\n",
        "    model.eval()\n",
        "    correct, total = 0, 0\n",
        "    with torch.no_grad():\n",
        "        for images, labels in loader:\n",
        "            images, labels = images.to(device), labels.to(device)\n",
        "            outputs = model(images)\n",
        "            _, predicted = torch.max(outputs.data, 1)\n",
        "            total += labels.size(0)\n",
        "            correct += (predicted == labels).sum().item()\n",
        "    return 100 * correct / total\n",
        "\n",
        "val_acc = evaluate(model, val_loader)\n",
        "test_acc = evaluate(model, test_loader)\n",
        "print(f\"Validation Accuracy: {val_acc:.2f}%\")\n",
        "print(f\"Test Accuracy: {test_acc:.2f}%\")"
      ]
    }
  ],
  "metadata": {
    "colab": {
      "provenance": []
    },
    "kernelspec": {
      "display_name": "Python 3",
      "name": "python3"
    },
    "language_info": {
      "name": "python"
    }
  },
  "nbformat": 4,
  "nbformat_minor": 0
}